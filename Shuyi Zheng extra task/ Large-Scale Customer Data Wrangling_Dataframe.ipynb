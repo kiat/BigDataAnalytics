{
 "cells": [
  {
   "cell_type": "code",
   "execution_count": 1,
   "metadata": {},
   "outputs": [],
   "source": [
    "from __future__ import print_function\n",
    "import sys\n",
    "import re\n",
    "import numpy as np\n",
    "import pandas as pd\n",
    "from numpy import dot\n",
    "from numpy.linalg import norm\n",
    "from pyspark.ml.linalg import Vectors, VectorUDT\n",
    "from pyspark.sql import functions as func\n",
    "from pyspark.sql import SQLContext\n",
    "from pyspark.sql.types import *\n",
    "from pyspark.sql.functions import udf, length, collect_set, col, split, explode, lit,max as max_, monotonically_increasing_id, array, size, sum as sum_, pandas_udf, PandasUDFType\n",
    "from pyspark import SparkContext\n",
    "from pyspark.sql import SQLContext"
   ]
  },
  {
   "cell_type": "code",
   "execution_count": null,
   "metadata": {},
   "outputs": [],
   "source": [
    "sc = SparkContext(appName=\"Large-Scale Customer Data Wrangling_Dataframe\")\n",
    "sqlContext = SQLContext(sc)"
   ]
  },
  {
   "cell_type": "code",
   "execution_count": 2,
   "metadata": {},
   "outputs": [],
   "source": [
    "schema_Customer =  StructType([\n",
    "    StructField('CUSTKEY', StringType(),True),\n",
    "    StructField('NAME', StringType(),True),\n",
    "    StructField('ADDRESS', StringType(),True),\n",
    "    StructField('NATIONKEY', StringType(),True),\n",
    "    StructField('PHONE', StringType(),True),\n",
    "    StructField('ACCBATL', StringType(),True),\n",
    "    StructField('MKTSEGMENT', StringType(),True),\n",
    "    StructField('COMMENT', StringType(),True),\n",
    "])\n",
    "\n",
    "schema_Orders =  StructType([\n",
    "    StructField('ORDERKEY', StringType(),True),\n",
    "    StructField('CUSTKEY', StringType(),True),\n",
    "    StructField('ORDERSTATUS', StringType(),True),\n",
    "    StructField('TOTALPRICE', StringType(),True),\n",
    "    StructField('ORDERDATE', StringType(),True),\n",
    "    StructField('ORDER PRIORITY', StringType(),True),\n",
    "    StructField('CLERK', StringType(),True),\n",
    "    StructField('SHIP_PRIORITY', StringType(),True),\n",
    "    StructField('COMMENT', StringType(),True)\n",
    "])\n",
    "\n",
    "schema_Lineitem =  StructType([\n",
    "    StructField('ORDERKEY', StringType(),True),\n",
    "    StructField('PARTKEY', StringType(),True),\n",
    "    StructField('SUPPKEY', StringType(),True),\n",
    "    StructField('LINENUMBER', StringType(),True),\n",
    "    StructField('QUANTITY', StringType(),True),\n",
    "    StructField('EXTENDEDPRICE', StringType(),True),\n",
    "    StructField('DISCOUNT', StringType(),True),\n",
    "    StructField('TAX', StringType(),True),\n",
    "    StructField('RETURNFLAG', StringType(),True),\n",
    "    StructField('LINESTATUS', StringType(),True),\n",
    "    StructField('SHIPDATE', StringType(),True),\n",
    "    StructField('COMMITDATE', StringType(),True),\n",
    "    StructField('RECEIPTDATE', StringType(),True),\n",
    "    StructField('SHIPINSTRUCT', StringType(),True),\n",
    "    StructField('SHIPMODE', StringType(),True),\n",
    "    StructField('COMMENT', StringType(),True)\n",
    "])\n",
    "\n",
    "schema_Nation =  StructType([\n",
    "    StructField('NATIONKEY', StringType(),True),\n",
    "    StructField('NAME', StringType(),True),\n",
    "    StructField('REGIONKEY', StringType(),True),\n",
    "    StructField('COMMENT', StringType(),True)\n",
    "])\n",
    "\n",
    "schema_Part =  StructType([\n",
    "    StructField('PARTKEY', StringType(),True),\n",
    "    StructField('NAME', StringType(),True),\n",
    "    StructField('MFGR', StringType(),True),\n",
    "    StructField('BRAND', StringType(),True),\n",
    "    StructField('TYPE', StringType(),True),\n",
    "    StructField('SIZE', StringType(),True),\n",
    "    StructField('CONTAINER', StringType(),True),\n",
    "    StructField('RETAILPRICE', StringType(),True),\n",
    "    StructField('COMMENT', StringType(),True)\n",
    "])\n",
    "\n",
    "schema_Partsupp =  StructType([\n",
    "    StructField('PARTKEY', StringType(),True),\n",
    "    StructField('SUPPKEY', StringType(),True),\n",
    "    StructField('AVAILQTY', StringType(),True),\n",
    "    StructField('SUPPLYCOST', StringType(),True),\n",
    "    StructField('COMMENT', StringType(),True)\n",
    "])\n",
    "\n",
    "schema_Region =  StructType([\n",
    "    StructField('REGIONKEY', StringType(),True),\n",
    "    StructField('NAME', StringType(),True),\n",
    "    StructField('COMMENT', StringType(),True)\n",
    "])\n",
    "\n",
    "schema_Supplier =  StructType([\n",
    "    StructField('SUPPKEY', StringType(),True),\n",
    "    StructField('NAME', StringType(),True),\n",
    "    StructField('ADDRESS', StringType(),True),\n",
    "    StructField('NATIONKEY', StringType(),True),\n",
    "    StructField('PHONE', StringType(),True),\n",
    "    StructField('COMMENT', StringType(),True)\n",
    "])\n",
    "\n",
    "Customer_file = 'customer.tbl.txt'\n",
    "Orders_file = 'orders.tbl.txt'\n",
    "Lineitem_file = 'lineitem.tbl.txt'\n",
    "Nation_file = 'nation.tbl.txt'\n",
    "Part_file = 'part.tbl.txt'\n",
    "Partsupp_file = 'partsupp.tbl.txt'\n",
    "Region_file = 'region.tbl.txt'\n",
    "Supplier_file = 'supplier.tbl.txt'\n",
    "\n",
    "\n",
    "Customer = sqlContext.read.format('csv').options(header='True', infoerSchema = 'true', sep='|').load(Customer_file, schema = schema_Customer)\n",
    "Orders = sqlContext.read.format('csv').options(header='True', infoerSchema = 'true', sep='|').load(Orders_file, schema = schema_Orders)\n",
    "Nation = sqlContext.read.format('csv').options(header='True', infoerSchema = 'true', sep='|').load(Nation_file, schema = schema_Nation)\n",
    "Lineitem = sqlContext.read.format('csv').options(header='True', infoerSchema = 'true', sep='|').load(Lineitem_file, schema = schema_Lineitem)\n",
    "Part = sqlContext.read.format('csv').options(header='True', infoerSchema = 'true', sep='|').load(Part_file, schema = schema_Part)\n",
    "Partsupp = sqlContext.read.format('csv').options(header='True', infoerSchema = 'true', sep='|').load(Partsupp_file, schema = schema_Partsupp)\n",
    "Region = sqlContext.read.format('csv').options(header='True', infoerSchema = 'true', sep='|').load(Region_file, schema = schema_Region)\n",
    "Supplier = sqlContext.read.format('csv').options(header='True', infoerSchema = 'true', sep='|').load(Supplier_file, schema = schema_Supplier)\n"
   ]
  },
  {
   "cell_type": "code",
   "execution_count": 29,
   "metadata": {},
   "outputs": [],
   "source": [
    "Lineitem = Lineitem.withColumn(\"QUANTITY\", Lineitem[\"QUANTITY\"].cast(IntegerType()))\n",
    "Lineitem = Lineitem.withColumn(\"PARTKEY\", Lineitem[\"PARTKEY\"].cast(IntegerType()))\n",
    "Orders = Orders.withColumn(\"CUSTKEY\", Orders[\"CUSTKEY\"].cast(IntegerType()))\n",
    "Customer = Customer.withColumn(\"CUSTKEY\", Customer[\"CUSTKEY\"].cast(IntegerType()))\n"
   ]
  },
  {
   "cell_type": "code",
   "execution_count": 4,
   "metadata": {},
   "outputs": [
    {
     "name": "stdout",
     "output_type": "stream",
     "text": [
      "+-------+---+\n",
      "|PARTKEY|num|\n",
      "+-------+---+\n",
      "|  10620| 56|\n",
      "|   6140| 54|\n",
      "|   8051| 52|\n",
      "|  15584| 52|\n",
      "|  10597| 51|\n",
      "|  10715| 51|\n",
      "|   2292| 51|\n",
      "|  19444| 50|\n",
      "|  14422| 50|\n",
      "|  17670| 50|\n",
      "+-------+---+\n",
      "\n"
     ]
    }
   ],
   "source": [
    "# Question 1: What are the top-10 sold products?\n",
    "top_product = Lineitem.select('PARTKEY').withColumn('cnt',lit(1)).groupBy('PARTKEY').agg(sum_('cnt').alias('num')).orderBy('num', ascending=False).limit(10)\n",
    "top_product.show()\n"
   ]
  },
  {
   "cell_type": "code",
   "execution_count": 5,
   "metadata": {},
   "outputs": [
    {
     "name": "stdout",
     "output_type": "stream",
     "text": [
      "+-------+----+\n",
      "|CUSTKEY| num|\n",
      "+-------+----+\n",
      "|   8362|4082|\n",
      "|   9454|3870|\n",
      "|    346|3817|\n",
      "|   6958|3760|\n",
      "|   1105|3737|\n",
      "|  14707|3710|\n",
      "|  11998|3709|\n",
      "|  14398|3670|\n",
      "|   8542|3660|\n",
      "|   8761|3658|\n",
      "+-------+----+\n",
      "\n"
     ]
    }
   ],
   "source": [
    "# Question 2: What are the top-10 customers based on the number of products ordered?\n",
    "orders_sub = Orders.select(\"ORDERKEY\",\"CUSTKEY\")\n",
    "lineitem_sub = Lineitem.select(\"ORDERKEY\",\"QUANTITY\")\n",
    "cust_quantity = orders_sub.join(lineitem_sub, orders_sub.ORDERKEY == lineitem_sub.ORDERKEY,\"inner\").drop(\"ORDERKEY\")\n",
    "\n",
    "top_10_customers = cust_quantity.groupBy(\"CUSTKEY\").agg(sum_(\"QUANTITY\").alias(\"num\")).orderBy(\"num\",ascending=False).limit(10)\n",
    "top_10_customers.show()"
   ]
  },
  {
   "cell_type": "code",
   "execution_count": 6,
   "metadata": {},
   "outputs": [
    {
     "name": "stdout",
     "output_type": "stream",
     "text": [
      "+-------+-------+---+\n",
      "|CUSTKEY|SUPPKEY|num|\n",
      "+-------+-------+---+\n",
      "|   2767|    601|  5|\n",
      "|  14875|    452|  4|\n",
      "|   9562|    695|  4|\n",
      "|   2119|    603|  4|\n",
      "|  11515|    113|  4|\n",
      "|  11354|    127|  4|\n",
      "|  14581|    902|  4|\n",
      "|   1567|    750|  4|\n",
      "|   8437|    548|  4|\n",
      "|   5281|    577|  4|\n",
      "+-------+-------+---+\n",
      "\n"
     ]
    }
   ],
   "source": [
    "# Question 3: What are the top-10 customers that have ordered products from the same supplier\n",
    "lineitem_sub2 = Lineitem.select('ORDERKEY','SUPPKEY')\n",
    "customer_supp = orders_sub.join(lineitem_sub2, orders_sub.ORDERKEY == lineitem_sub2.ORDERKEY , 'full' ).drop('ORDERKEY')\n",
    "top_customers_supp = customer_supp.withColumn('cnt', lit(1)).groupBy('CUSTKEY','SUPPKEY').agg(sum_('cnt').alias('num')).orderBy('num', ascending=False).limit(10)\n",
    "top_customers_supp.show()\n"
   ]
  },
  {
   "cell_type": "code",
   "execution_count": 7,
   "metadata": {},
   "outputs": [
    {
     "name": "stdout",
     "output_type": "stream",
     "text": [
      "+-------+\n",
      "|CUSTKEY|\n",
      "+-------+\n",
      "|    833|\n",
      "|   1580|\n",
      "|   1829|\n",
      "|   2366|\n",
      "|   3749|\n",
      "|   3794|\n",
      "|   5300|\n",
      "|   6620|\n",
      "|   7340|\n",
      "|   7982|\n",
      "|  10817|\n",
      "|  11141|\n",
      "|  11458|\n",
      "|  14450|\n",
      "|    737|\n",
      "|   1127|\n",
      "|   1721|\n",
      "|   2999|\n",
      "|   3179|\n",
      "|   3698|\n",
      "+-------+\n",
      "only showing top 20 rows\n",
      "\n"
     ]
    }
   ],
   "source": [
    "# Question 4: Who are the customers that have not ordered products from their own country and have ordered only foreign products\n",
    "customer_sub = Customer.select(\"CUSTKEY\",col(\"NATIONKEY\").alias(\"cus_NATIONKEY\"))\n",
    "order_cust_nation = orders_sub.join(customer_sub, \"CUSTKEY\", \"inner\")\n",
    "\n",
    "supplier_sub = Supplier.select(\"SUPPKEY\",col(\"NATIONKEY\").alias(\"sup_NATIONKEY\"))\n",
    "supp_order_nation = lineitem_sub2.join(supplier_sub,\"SUPPKEY\",\"inner\")\n",
    "\n",
    "order_nation_cust_nation = order_cust_nation.join(supp_order_nation,\"ORDERKEY\",\"inner\").drop(\"SUPPKEY\")\n",
    "\n",
    "cust_OwnCountryCnt = order_nation_cust_nation.where(\"cus_NATIONKEY=sup_NATIONKEY\").select(col(\"CUSTKEY\").alias(\"own_CUSTKEY\")).dropDuplicates()\n",
    "\n",
    "all_cust = order_nation_cust_nation.select(\"CUSTKEY\").dropDuplicates()\n",
    "cust_onlyforeign = all_cust.join(cust_OwnCountryCnt,order_nation_cust_nation.CUSTKEY == cust_OwnCountryCnt.own_CUSTKEY,\"full\").where(col(\"own_CUSTKEY\").isNull()).select(\"CUSTKEY\")\n",
    "cust_onlyforeign.show()"
   ]
  },
  {
   "cell_type": "code",
   "execution_count": 8,
   "metadata": {},
   "outputs": [
    {
     "name": "stdout",
     "output_type": "stream",
     "text": [
      "+-------------+-----+\n",
      "|sup_NATIONKEY|  num|\n",
      "+-------------+-----+\n",
      "|           18|31483|\n",
      "|            7|29975|\n",
      "|           22|28317|\n",
      "+-------------+-----+\n",
      "\n"
     ]
    }
   ],
   "source": [
    "# Question 5: Which top 3 countries produced most of the products that are ordered\n",
    "lineitem_sub3 = Lineitem.select(\"PARTKEY\",\"SUPPKEY\")\n",
    "nation_part = lineitem_sub3.join(supplier_sub,\"SUPPKEY\",\"inner\")\n",
    "nation_partcnt = nation_part.withColumn(\"cnt\",lit(1)).groupBy(\"sup_NATIONKEY\").agg(sum_(\"cnt\").alias(\"num\")).orderBy(\"num\",ascending=False).limit(3)\n",
    "nation_partcnt.show()\n"
   ]
  },
  {
   "cell_type": "code",
   "execution_count": 30,
   "metadata": {},
   "outputs": [
    {
     "name": "stdout",
     "output_type": "stream",
     "text": [
      "+-------+--------------------+\n",
      "|CUSTKEY|           part_list|\n",
      "+-------+--------------------+\n",
      "|    148|[17525, 18635, 53...|\n",
      "|    463|[15297, 10142, 10...|\n",
      "|    496|[16640, 6876, 152...|\n",
      "|    833|[17902, 2085, 166...|\n",
      "|   1088|[8785, 5541, 1578...|\n",
      "|   1238|[13852, 9133, 578...|\n",
      "|   1342|[19753, 16305, 10...|\n",
      "|   1580|[9402, 6977, 1963...|\n",
      "|   1591|[2796, 5249, 1589...|\n",
      "|   1645|[356, 12705, 5076...|\n",
      "|   1829|[7413, 14636, 186...|\n",
      "|   2122|[10425, 1830, 169...|\n",
      "|   2366|[15797, 2695, 974...|\n",
      "|   2659|[17525, 8901, 791...|\n",
      "|   2866|[12001, 102, 3508...|\n",
      "|   3175|[4160, 6113, 8799...|\n",
      "|   3749|[1555, 4062, 8743...|\n",
      "|   3997|[19376, 9744, 128...|\n",
      "|   4519|[3144, 4364, 1047...|\n",
      "|   4900|[19682, 17323, 14...|\n",
      "+-------+--------------------+\n",
      "only showing top 20 rows\n",
      "\n"
     ]
    }
   ],
   "source": [
    "# Question 6: Who are the top-10 similar customers based of their orders? \n",
    "# (Use Jaccard similarity to calculate the similarity) \n",
    "# Consider only customers that have ordered at least 10 products. First collect all the products that each customer ordered.\n",
    "lineitem_sub4 = Lineitem.select(\"ORDERKEY\",\"PARTKEY\")\n",
    "cust_part = orders_sub.join(lineitem_sub4,\"ORDERKEY\",\"inner\").drop(\"ORDERKEY\")\n",
    "\n",
    "cust_partlist = cust_part.groupBy(\"CUSTKEY\").agg(collect_set(\"PARTKEY\").alias(\"part_list\")).where(size(col(\"part_list\"))>=10)\n",
    "cust_partlist.show()"
   ]
  },
  {
   "cell_type": "code",
   "execution_count": 19,
   "metadata": {},
   "outputs": [
    {
     "name": "stdout",
     "output_type": "stream",
     "text": [
      "+-----+--------------------+-----+--------------------+\n",
      "|cus_a|          partlist_a|cus_b|          partlist_b|\n",
      "+-----+--------------------+-----+--------------------+\n",
      "|  148|[1951, 6880, 1789...|  463|[6823, 141, 4590,...|\n",
      "|  148|[1951, 6880, 1789...|  496|[495, 12133, 3637...|\n",
      "|  148|[1951, 6880, 1789...|  833|[11531, 9753, 839...|\n",
      "|  148|[1951, 6880, 1789...| 1088|[14337, 17378, 50...|\n",
      "|  148|[1951, 6880, 1789...| 1238|[10757, 8343, 287...|\n",
      "|  148|[1951, 6880, 1789...| 1342|[11718, 3107, 175...|\n",
      "|  148|[1951, 6880, 1789...| 1580|[16315, 8478, 171...|\n",
      "|  148|[1951, 6880, 1789...| 1591|[2401, 4588, 1938...|\n",
      "|  148|[1951, 6880, 1789...| 1645|[11844, 10050, 16...|\n",
      "|  148|[1951, 6880, 1789...| 1829|[15007, 814, 1011...|\n",
      "|  148|[1951, 6880, 1789...| 2122|[11211, 19581, 25...|\n",
      "|  148|[1951, 6880, 1789...| 2366|[5727, 6843, 9391...|\n",
      "|  148|[1951, 6880, 1789...| 2659|[13797, 9662, 140...|\n",
      "|  148|[1951, 6880, 1789...| 2866|[19482, 7373, 338...|\n",
      "|  148|[1951, 6880, 1789...| 3175|[11849, 10736, 10...|\n",
      "|  148|[1951, 6880, 1789...| 3749|[14638, 11397, 11...|\n",
      "|  148|[1951, 6880, 1789...| 3997|[429, 10112, 1389...|\n",
      "|  148|[1951, 6880, 1789...| 4519|[15480, 3286, 132...|\n",
      "|  148|[1951, 6880, 1789...| 4900|[15871, 521, 3848...|\n",
      "|  148|[1951, 6880, 1789...| 5156|[18299, 18514, 17...|\n",
      "+-----+--------------------+-----+--------------------+\n",
      "only showing top 20 rows\n",
      "\n"
     ]
    }
   ],
   "source": [
    "\n",
    "crossjoin_cust_partlist = cust_partlist.crossJoin(cust_partlist).toDF(\"cus_a\",\"partlist_a\",\"cus_b\",\"partlist_b\").where(\"cus_a<cus_b\")\n",
    "crossjoin_cust_partlist.show()"
   ]
  },
  {
   "cell_type": "code",
   "execution_count": 20,
   "metadata": {},
   "outputs": [
    {
     "name": "stdout",
     "output_type": "stream",
     "text": [
      "+-----+--------------------+-----+--------------------+------------+\n",
      "|cus_a|          partlist_a|cus_b|          partlist_b|     jaccard|\n",
      "+-----+--------------------+-----+--------------------+------------+\n",
      "|  148|[1951, 6880, 1789...|  463|[6823, 141, 4590,...|         0.0|\n",
      "|  148|[1951, 6880, 1789...|  496|[495, 12133, 3637...|         0.0|\n",
      "|  148|[1951, 6880, 1789...|  833|[11531, 9753, 839...|         0.0|\n",
      "|  148|[1951, 6880, 1789...| 1088|[14337, 17378, 50...|         0.0|\n",
      "|  148|[1951, 6880, 1789...| 1238|[10757, 8343, 287...|         0.0|\n",
      "|  148|[1951, 6880, 1789...| 1342|[11718, 3107, 175...|         0.0|\n",
      "|  148|[1951, 6880, 1789...| 1580|[16315, 8478, 171...|         0.0|\n",
      "|  148|[1951, 6880, 1789...| 1591|[2401, 4588, 1938...|         0.0|\n",
      "|  148|[1951, 6880, 1789...| 1645|[11844, 10050, 16...|         0.0|\n",
      "|  148|[1951, 6880, 1789...| 1829|[15007, 814, 1011...|         0.0|\n",
      "|  148|[1951, 6880, 1789...| 2122|[11211, 19581, 25...|         0.0|\n",
      "|  148|[1951, 6880, 1789...| 2366|[5727, 6843, 9391...|         0.0|\n",
      "|  148|[1951, 6880, 1789...| 2659|[13797, 9662, 140...|0.0062111802|\n",
      "|  148|[1951, 6880, 1789...| 2866|[19482, 7373, 338...|     0.00625|\n",
      "|  148|[1951, 6880, 1789...| 3175|[11849, 10736, 10...|         0.0|\n",
      "|  148|[1951, 6880, 1789...| 3749|[14638, 11397, 11...|         0.0|\n",
      "|  148|[1951, 6880, 1789...| 3997|[429, 10112, 1389...|         0.0|\n",
      "|  148|[1951, 6880, 1789...| 4519|[15480, 3286, 132...|         0.0|\n",
      "|  148|[1951, 6880, 1789...| 4900|[15871, 521, 3848...|         0.0|\n",
      "|  148|[1951, 6880, 1789...| 5156|[18299, 18514, 17...|0.0074074073|\n",
      "+-----+--------------------+-----+--------------------+------------+\n",
      "only showing top 20 rows\n",
      "\n"
     ]
    }
   ],
   "source": [
    "jaccard_udf = udf(lambda a,b: len(set(a)&set(b))/len(set(a)|set(b)),FloatType())\n",
    "pair_jaccard = crossjoin_cust_partlist.withColumn(\"jaccard\",jaccard_udf(\"partlist_a\",\"partlist_b\"))\n",
    "pair_jaccard.show()"
   ]
  },
  {
   "cell_type": "code",
   "execution_count": 21,
   "metadata": {},
   "outputs": [
    {
     "name": "stdout",
     "output_type": "stream",
     "text": [
      "+-----+-----+-----------+\n",
      "|cus_a|cus_b|    jaccard|\n",
      "+-----+-----+-----------+\n",
      "| 4808|10901| 0.06666667|\n",
      "| 5390| 7532| 0.06451613|\n",
      "| 2489| 4283| 0.06349207|\n",
      "| 2768| 4385|     0.0625|\n",
      "| 5462| 7739|     0.0625|\n",
      "|  944|11402| 0.06122449|\n",
      "|   29| 6788|0.060606062|\n",
      "|  668|12746|0.060606062|\n",
      "|10418|11432| 0.05882353|\n",
      "| 1976| 9740| 0.05882353|\n",
      "+-----+-----+-----------+\n",
      "\n"
     ]
    }
   ],
   "source": [
    "top_10_similar_customers = pair_jaccard.select(\"cus_a\",\"cus_b\",\"jaccard\").orderBy(\"jaccard\",ascending=False).limit(10)\n",
    "top_10_similar_customers.show()"
   ]
  },
  {
   "cell_type": "code",
   "execution_count": 33,
   "metadata": {},
   "outputs": [
    {
     "name": "stdout",
     "output_type": "stream",
     "text": [
      "+------+------+---+\n",
      "|part_a|part_b|num|\n",
      "+------+------+---+\n",
      "|  9021| 18846|  6|\n",
      "|   344| 10147|  5|\n",
      "|  1160|  9714|  5|\n",
      "|  3992| 19873|  5|\n",
      "|  3376|  9230|  5|\n",
      "|  3285| 16720|  5|\n",
      "| 10339| 12162|  5|\n",
      "|  1864| 18222|  5|\n",
      "|  6336|  9344|  5|\n",
      "|  5120| 16197|  5|\n",
      "+------+------+---+\n",
      "\n"
     ]
    }
   ],
   "source": [
    "# Question 7: What are the top-10 products pairs that the customer ordered mostly together?\n",
    "cust_part2 = orders_sub.join(lineitem_sub4,\"ORDERKEY\",\"inner\").drop(\"ORDERKEY\")\n",
    "cust_part_part = cust_part2.crossJoin(cust_part2).toDF(\"cus_a\",\"part_a\",\"cus_b\",\"part_b\").where(\"cus_a = cus_b\").where(\"part_a < part_b\")\n",
    "pair_cnt = cust_part_part.withColumn(\"cnt\",lit(1)).groupBy(\"part_a\",\"part_b\").agg(sum_(\"cnt\").alias(\"num\"))\n",
    "top_10_products_pairs = pair_cnt.orderBy(\"num\",ascending=False).limit(10)\n",
    "top_10_products_pairs.show()"
   ]
  },
  {
   "cell_type": "code",
   "execution_count": null,
   "metadata": {},
   "outputs": [],
   "source": [
    "sc.stop()"
   ]
  }
 ],
 "metadata": {
  "kernelspec": {
   "display_name": "Python 3",
   "language": "python",
   "name": "python3"
  },
  "language_info": {
   "codemirror_mode": {
    "name": "ipython",
    "version": 3
   },
   "file_extension": ".py",
   "mimetype": "text/x-python",
   "name": "python",
   "nbconvert_exporter": "python",
   "pygments_lexer": "ipython3",
   "version": "3.8.3"
  }
 },
 "nbformat": 4,
 "nbformat_minor": 4
}
