{
 "cells": [
  {
   "cell_type": "code",
   "execution_count": 1,
   "metadata": {},
   "outputs": [],
   "source": [
    "from __future__ import print_function\n",
    "import sys\n",
    "import re\n",
    "import numpy as np\n",
    "import pandas as pd\n",
    "from numpy import dot\n",
    "from numpy.linalg import norm\n",
    "from pyspark.ml.linalg import Vectors, VectorUDT\n",
    "from pyspark.sql import functions as func\n",
    "from pyspark.sql import SQLContext\n",
    "from pyspark.sql.types import *\n",
    "from pyspark.sql.functions import udf, expr, concat, col, split, explode, lit,max as max_, monotonically_increasing_id, array, size, sum as sum_, pandas_udf, PandasUDFType\n",
    "from pyspark import SparkContext\n",
    "from pyspark.sql import SQLContext\n"
   ]
  },
  {
   "cell_type": "code",
   "execution_count": null,
   "metadata": {},
   "outputs": [],
   "source": [
    "sc = SparkContext(appName=\"Flight Data Wrangling_Dataframe\")\n",
    "sqlContext = SQLContext(sc)"
   ]
  },
  {
   "cell_type": "code",
   "execution_count": 2,
   "metadata": {},
   "outputs": [],
   "source": [
    "schema_flights =  StructType([\n",
    "    StructField('YEAR', StringType(),True),\n",
    "    StructField('MONTH', StringType(),True),\n",
    "    StructField('DAY', StringType(),True),\n",
    "    StructField('DAY_OF_WEEK', StringType(),True),\n",
    "    StructField('AIRLINE', StringType(),True),\n",
    "    StructField('FLIGHT_NUMBER', StringType(),True),\n",
    "    StructField('TAIL_NUMBER', StringType(),True),\n",
    "    StructField('ORIGIN_AIRPORT', StringType(),True),\n",
    "    StructField('DESTINATION_AIRPORT', StringType(),True),\n",
    "    StructField('SCHEDULED_DEPARTURE', StringType(),True),\n",
    "    StructField('DEPARTURE_TIME', StringType(),True),\n",
    "    StructField('DEPARTURE_DELAY', StringType(),True),\n",
    "    StructField('CANCELLED', StringType(),True)\n",
    "])\n",
    "\n",
    "schema_airports =  StructType([\n",
    "    StructField('IATA_CODE', StringType(),True),\n",
    "    StructField('AIRPORT', StringType(),True),\n",
    "    StructField('CITY', StringType(),True),\n",
    "    StructField('STATE', StringType(),True),\n",
    "    StructField('COUNTRY', StringType(),True),\n",
    "    StructField('LATITUDE', StringType(),True),\n",
    "    StructField('LONGITUDE', StringType(),True)\n",
    "])\n",
    "\n",
    "flights_file = 'flights.csv.bz2'\n",
    "airports_file = 'airports.csv'\n",
    "\n",
    "flights_lines = sc.textFile(flights_file)\n",
    "flights_lines = flights_lines.zipWithIndex().filter(lambda kv: kv[1] > 2).keys()\n",
    "flights_raw = flights_lines.map(lambda x: x.split(','))\n",
    "flights = flights_raw.map(lambda p: (p[0], p[1] , p[2] , p[3], p[4] , p[5] , p[6], p[7] , p[8] , p[9], p[10], '0' if p[11] == '' else p[11], p[24] ))\n",
    "flights = flights.toDF(schema_flights)\n",
    "# flights = sqlContext.read.format('csv').options(header='True', infoerSchema = 'true', sep='|').load(flights_file, schema = schema_flights)\n",
    "airports = sqlContext.read.format('csv').options(header='True', infoerSchema = 'true', sep=',').load(airports_file, schema = schema_airports)"
   ]
  },
  {
   "cell_type": "code",
   "execution_count": 3,
   "metadata": {},
   "outputs": [],
   "source": [
    "flights = flights.withColumn(\"DEPARTURE_DELAY\", flights[\"DEPARTURE_DELAY\"].cast(IntegerType()))"
   ]
  },
  {
   "cell_type": "code",
   "execution_count": 4,
   "metadata": {},
   "outputs": [
    {
     "name": "stdout",
     "output_type": "stream",
     "text": [
      "+--------------+\n",
      "|ORIGIN_AIRPORT|\n",
      "+--------------+\n",
      "|           BGM|\n",
      "|           PSE|\n",
      "|           INL|\n",
      "|           DLG|\n",
      "|         12888|\n",
      "|           MSY|\n",
      "|           PPG|\n",
      "|         12003|\n",
      "|         15041|\n",
      "|           GEG|\n",
      "|           SNA|\n",
      "|           BUR|\n",
      "|           GRB|\n",
      "|           GTF|\n",
      "|         14986|\n",
      "|         13851|\n",
      "|           IDA|\n",
      "|         11150|\n",
      "|         15412|\n",
      "|           GRR|\n",
      "+--------------+\n",
      "only showing top 20 rows\n",
      "\n"
     ]
    }
   ],
   "source": [
    "# Question 1: Find a list of all origin Airports. Store the list of all origin airports in a single file\n",
    "originAirports = flights.select('ORIGIN_AIRPORT').distinct()\n",
    "originAirports.show()"
   ]
  },
  {
   "cell_type": "code",
   "execution_count": 5,
   "metadata": {},
   "outputs": [
    {
     "name": "stdout",
     "output_type": "stream",
     "text": [
      "+--------------+-------------------+\n",
      "|ORIGIN_AIRPORT|DESTINATION_AIRPORT|\n",
      "+--------------+-------------------+\n",
      "|           BQN|                MCO|\n",
      "|           PHL|                MCO|\n",
      "|           MCI|                IAH|\n",
      "|           SPI|                ORD|\n",
      "|           SNA|                PHX|\n",
      "|           LBB|                DEN|\n",
      "|           ORD|                PDX|\n",
      "|           EWR|                STT|\n",
      "|           ATL|                GSP|\n",
      "|           MCI|                MKE|\n",
      "|           PBI|                DCA|\n",
      "|           SMF|                BUR|\n",
      "|           MDW|                MEM|\n",
      "|           LAS|                LIT|\n",
      "|           TPA|                ACY|\n",
      "|           DSM|                EWR|\n",
      "|           FSD|                ATL|\n",
      "|           SJC|                LIH|\n",
      "|           CLE|                SJU|\n",
      "|         11298|              11057|\n",
      "+--------------+-------------------+\n",
      "only showing top 20 rows\n",
      "\n"
     ]
    }
   ],
   "source": [
    "# Question 2: Find a list of (Origin, Destination) pairs\n",
    "Origin_Destination = flights.select('ORIGIN_AIRPORT','DESTINATION_AIRPORT').distinct()\n",
    "Origin_Destination.show()"
   ]
  },
  {
   "cell_type": "code",
   "execution_count": 6,
   "metadata": {},
   "outputs": [
    {
     "name": "stdout",
     "output_type": "stream",
     "text": [
      "+--------------+\n",
      "|ORIGIN_AIRPORT|\n",
      "+--------------+\n",
      "|           BHM|\n",
      "+--------------+\n",
      "\n"
     ]
    }
   ],
   "source": [
    "# Question 3: Which airport had the largest departure delay in January?\n",
    "LargestDepartureDelay_January = flights.where(\"MONTH = '1'\").orderBy(\"DEPARTURE_DELAY\", ascending=False).limit(1)\n",
    "LargestDepartureDelay_January.select(\"ORIGIN_AIRPORT\").show()\n"
   ]
  },
  {
   "cell_type": "code",
   "execution_count": 7,
   "metadata": {},
   "outputs": [
    {
     "name": "stdout",
     "output_type": "stream",
     "text": [
      "+-------+\n",
      "|AIRLINE|\n",
      "+-------+\n",
      "|     AA|\n",
      "+-------+\n",
      "\n"
     ]
    }
   ],
   "source": [
    "# Question 4: Which airline carrier had the largest delay on weekends (Saturdays and Sundays)?\n",
    "LargestDelay_Weekends_airline = flights.where(\"DAY_OF_WEEK = '6'\" or \"DAY_OF_WEEK = '7'\").orderBy(\"DEPARTURE_DELAY\", ascending=False).limit(1)\n",
    "LargestDepartureDelay_January.select(\"AIRLINE\").show()"
   ]
  },
  {
   "cell_type": "code",
   "execution_count": 8,
   "metadata": {},
   "outputs": [
    {
     "name": "stdout",
     "output_type": "stream",
     "text": [
      "+--------------+\n",
      "|ORIGIN_AIRPORT|\n",
      "+--------------+\n",
      "|           ORD|\n",
      "+--------------+\n",
      "\n"
     ]
    }
   ],
   "source": [
    "# Question 5: Which airport has the most cancellation of flights?\n",
    "HighCancellation_Airport = flights.where(\"CANCELLED = '1'\").withColumn('cnt',lit(1)).groupBy(\"ORIGIN_AIRPORT\").agg(sum_(\"cnt\").alias(\"count\")).orderBy('count', ascending=False).limit(1)\n",
    "HighCancellation_Airport.select(\"ORIGIN_AIRPORT\").show()"
   ]
  },
  {
   "cell_type": "code",
   "execution_count": 9,
   "metadata": {},
   "outputs": [
    {
     "name": "stdout",
     "output_type": "stream",
     "text": [
      "+-------+--------------------+\n",
      "|AIRLINE|               ratio|\n",
      "+-------+--------------------+\n",
      "|     UA| 0.01274521400053905|\n",
      "|     NK|0.017072900604026275|\n",
      "|     AA|0.015040297086846387|\n",
      "|     EV|0.026628693111785964|\n",
      "|     B6|0.016012102693148796|\n",
      "|     DL|0.004365889886868193|\n",
      "|     OO| 0.01692861258462182|\n",
      "|     F9|0.006473204456382932|\n",
      "|     US|0.020466497244797825|\n",
      "|     MQ| 0.05099581851258519|\n",
      "|     HA|0.002241976085588...|\n",
      "|     AS|0.003877811268258...|\n",
      "|     VX|0.008626399366751207|\n",
      "|     WN|0.012713822111098344|\n",
      "+-------+--------------------+\n",
      "\n"
     ]
    }
   ],
   "source": [
    "# Question 6: What are the flights cancellation percentage ratio for each carrier? Provide a printout\n",
    "total_flight = flights.select(col('AIRLINE').alias(\"AIRLINES\")).withColumn(\"cnt\",lit(1)).groupBy(\"AIRLINES\").agg(sum_(\"cnt\").alias(\"total_count\"))\n",
    "cancelled_flight = flights.where(\"CANCELLED = '1'\").withColumn(\"cnt\",lit(1)).groupBy(\"AIRLINE\").agg(sum_(\"cnt\").alias(\"cancel_count\"))\n",
    "total_cancelled = total_flight.join(cancelled_flight, total_flight.AIRLINES == cancelled_flight.AIRLINE,'left')\n",
    "\n",
    "carrier_cancellation = total_cancelled.withColumn('ratio', col('cancel_count')/col(\"total_count\")).select(\"AIRLINE\",\"ratio\")\n",
    "carrier_cancellation.show()"
   ]
  },
  {
   "cell_type": "code",
   "execution_count": 10,
   "metadata": {},
   "outputs": [
    {
     "name": "stdout",
     "output_type": "stream",
     "text": [
      "+-------+--------------------+\n",
      "|AIRLINE|max(DEPARTURE_DELAY)|\n",
      "+-------+--------------------+\n",
      "|     UA|                1314|\n",
      "|     NK|                 836|\n",
      "|     AA|                1988|\n",
      "|     EV|                1274|\n",
      "|     B6|                1006|\n",
      "|     DL|                1289|\n",
      "|     OO|                1378|\n",
      "|     F9|                1112|\n",
      "|     US|                 759|\n",
      "|     MQ|                1544|\n",
      "|     HA|                1433|\n",
      "|     AS|                 963|\n",
      "|     VX|                 644|\n",
      "|     WN|                 665|\n",
      "+-------+--------------------+\n",
      "\n"
     ]
    }
   ],
   "source": [
    "# Question 7: Find the largest departure delay for each carrier\n",
    "LargestDepartureDelay_carrier = flights.groupBy(\"AIRLINE\").agg(max_(\"DEPARTURE_DELAY\"))\n",
    "LargestDepartureDelay_carrier.show()"
   ]
  },
  {
   "cell_type": "code",
   "execution_count": 11,
   "metadata": {},
   "outputs": [
    {
     "name": "stdout",
     "output_type": "stream",
     "text": [
      "+-------+-----+--------------------+\n",
      "|AIRLINE|MONTH|max(DEPARTURE_DELAY)|\n",
      "+-------+-----+--------------------+\n",
      "|     OO|    3|                 874|\n",
      "|     F9|    6|                 813|\n",
      "|     F9|    1|                 696|\n",
      "|     WN|    4|                 498|\n",
      "|     EV|    6|                1210|\n",
      "|     VX|   11|                 288|\n",
      "|     MQ|    5|                 956|\n",
      "|     AA|    1|                1988|\n",
      "|     UA|    7|                 824|\n",
      "|     WN|   10|                 621|\n",
      "|     WN|   11|                 505|\n",
      "|     AS|   11|                 634|\n",
      "|     NK|   12|                 723|\n",
      "|     HA|    9|                1304|\n",
      "|     MQ|    9|                1083|\n",
      "|     MQ|    6|                1098|\n",
      "|     AS|    7|                 830|\n",
      "|     OO|    4|                 878|\n",
      "|     VX|    7|                 410|\n",
      "|     MQ|   10|                1544|\n",
      "+-------+-----+--------------------+\n",
      "only showing top 20 rows\n",
      "\n"
     ]
    }
   ],
   "source": [
    "# Question 8: Find the largest departure delay for each carrier for each month\n",
    "LargestDepartureDelay_carrier_month = flights.groupBy(\"AIRLINE\",\"MONTH\").agg(max_(\"DEPARTURE_DELAY\"))\n",
    "LargestDepartureDelay_carrier_month.show()"
   ]
  },
  {
   "cell_type": "code",
   "execution_count": 12,
   "metadata": {},
   "outputs": [
    {
     "name": "stdout",
     "output_type": "stream",
     "text": [
      "+-------+-------------------+\n",
      "|AIRLINE|      average_delay|\n",
      "+-------+-------------------+\n",
      "|     UA|  14.26220664969373|\n",
      "|     NK|  15.68327383944317|\n",
      "|     AA|  8.773542906652084|\n",
      "|     EV|   8.49219111957299|\n",
      "|     B6| 11.333044995656211|\n",
      "|     DL|  7.338090448359994|\n",
      "|     OO|   7.67823058605973|\n",
      "|     F9|  13.27060856928971|\n",
      "|     US| 6.0209194071912036|\n",
      "|     MQ|   9.63204268375465|\n",
      "|     HA|0.48473882945248586|\n",
      "|     AS| 1.7795501970785996|\n",
      "|     VX|  8.947094648078446|\n",
      "|     WN| 10.450107183471951|\n",
      "+-------+-------------------+\n",
      "\n"
     ]
    }
   ],
   "source": [
    "# Question 9: For each carrier find the average departure delay.\n",
    "TotalDepartureDelay_carrier = flights.groupBy(\"AIRLINE\").agg(sum_(\"DEPARTURE_DELAY\").alias(\"total_delay\"))\n",
    "cnt_carrier = flights.select(col('AIRLINE').alias(\"AIRLINES\")).withColumn(\"cnt\",lit(1)).groupBy(\"AIRLINES\").agg(sum_(\"cnt\").alias(\"total_cnt\"))\n",
    "TotalDepartureDelay_cnt = TotalDepartureDelay_carrier.join(cnt_carrier, TotalDepartureDelay_carrier.AIRLINE == cnt_carrier.AIRLINES,'left')\n",
    "\n",
    "AverageDepartureDelay_carrier = TotalDepartureDelay_cnt.withColumn(\"average_delay\",col(\"total_delay\")/col(\"total_cnt\"))\n",
    "\n",
    "AverageDepartureDelay_carrier.select(\"AIRLINE\",\"average_delay\").show()"
   ]
  },
  {
   "cell_type": "code",
   "execution_count": 13,
   "metadata": {},
   "outputs": [
    {
     "name": "stdout",
     "output_type": "stream",
     "text": [
      "+-------+-----+------------------+\n",
      "|AIRLINE|MONTH|     average_delay|\n",
      "+-------+-----+------------------+\n",
      "|     F9|    6|19.004434308881287|\n",
      "|     OO|    3| 5.789528335796158|\n",
      "|     EV|    6|14.712840245118997|\n",
      "|     F9|    1|17.763215697759556|\n",
      "|     WN|    4| 8.767129982050053|\n",
      "|     VX|   11|5.7207240487624675|\n",
      "|     MQ|    5|  9.21988911171405|\n",
      "|     AA|    1|10.380929683598893|\n",
      "|     UA|    7| 19.23004432204484|\n",
      "|     WN|   10| 6.034080906272724|\n",
      "|     WN|   11|  7.79386803786823|\n",
      "|     AS|   11|1.7022939068100358|\n",
      "|     NK|   12|14.084153312716708|\n",
      "|     HA|    9| 2.089372765680858|\n",
      "|     MQ|    9| 4.531930949910386|\n",
      "|     MQ|    6|12.511945526823316|\n",
      "|     AS|    7|2.5547689779407117|\n",
      "|     OO|    4| 5.276855399460763|\n",
      "|     MQ|   10|3.4174779364934946|\n",
      "|     VX|    7|  9.72038440214378|\n",
      "+-------+-----+------------------+\n",
      "only showing top 20 rows\n",
      "\n"
     ]
    }
   ],
   "source": [
    "# Question 10: For each carrier find the average departure delay for each month.\n",
    "TotalDepartureDelay_carrier_month = flights.groupBy(\"AIRLINE\",\"MONTH\").agg(sum_(\"DEPARTURE_DELAY\").alias(\"total_delay\"))\n",
    "cnt_carrier_month = flights.select(col(\"AIRLINE\").alias(\"AIRLINES\"),col(\"MONTH\").alias(\"MONTHS\")).withColumn('cnt',lit(1)).groupBy(\"AIRLINES\",\"MONTHS\").agg(sum_(\"cnt\").alias(\"total_cnt\"))\n",
    "\n",
    "TotalDepartureDelay_cnt_month = TotalDepartureDelay_carrier_month.join(cnt_carrier_month, TotalDepartureDelay_carrier_month.AIRLINE == cnt_carrier_month.AIRLINES,'inner').where(\"MONTHS == MONTH\")\n",
    "\n",
    "AverageDepartureDelay_carrier_month = TotalDepartureDelay_cnt_month.withColumn('average_delay', col('total_delay')/col('total_cnt'))\n",
    "AverageDepartureDelay_carrier_month.select(\"AIRLINE\",\"MONTH\",\"average_delay\").show()\n"
   ]
  },
  {
   "cell_type": "code",
   "execution_count": 14,
   "metadata": {},
   "outputs": [
    {
     "name": "stdout",
     "output_type": "stream",
     "text": [
      "+----+-----+---+-------------------+\n",
      "|YEAR|MONTH|DAY|               rate|\n",
      "+----+-----+---+-------------------+\n",
      "|2015|    1| 27|0.19030023094688223|\n",
      "+----+-----+---+-------------------+\n",
      "\n"
     ]
    }
   ],
   "source": [
    "# Question 11: Which date of the year has the highest rate of flight cancellations?\n",
    "# You should calculate the rate of flight cancellation by dividing number of canceled flights by total\n",
    "# number of flights.\n",
    "total_flight_date = flights.select(col(\"YEAR\").alias('YEAR2'),col(\"MONTH\").alias('MONTH2'),col(\"DAY\").alias('DAY2')).withColumn(\"cnt\",lit(1)).groupBy(\"YEAR2\",\"MONTH2\",\"DAY2\").agg(sum_(\"cnt\").alias(\"total_cnt\"))\n",
    "cancelled_flight_date = flights.where(\"CANCELLED = '1'\").withColumn(\"cnt\",lit(1)).groupBy(\"YEAR\",\"MONTH\",\"DAY\").agg(sum_(\"cnt\").alias(\"cancel_cnt\"))\n",
    "\n",
    "total_flight_date_cancelled_flight_date = total_flight_date.join(cancelled_flight_date, total_flight_date.DAY2 == cancelled_flight_date.DAY, \"left\").where(\"MONTH2 = MONTH\").where(\"YEAR2 = YEAR\")\n",
    "\n",
    "DateOfYear_cancellations = total_flight_date_cancelled_flight_date.withColumn('rate',col(\"cancel_cnt\")/col(\"total_cnt\"))\n",
    "highest_DateOfYear_cancellations = DateOfYear_cancellations.select(\"YEAR\",\"MONTH\",\"DAY\",\"rate\").orderBy(\"rate\",ascending=False).limit(1)\n",
    "highest_DateOfYear_cancellations.show()\n"
   ]
  },
  {
   "cell_type": "code",
   "execution_count": 16,
   "metadata": {},
   "outputs": [
    {
     "name": "stdout",
     "output_type": "stream",
     "text": [
      "+-----+-------+---------+\n",
      "|STATE|AIRLINE|total_cnt|\n",
      "+-----+-------+---------+\n",
      "|   AZ|     US|    27781|\n",
      "|   NJ|     DL|     5009|\n",
      "|   MO|     AS|      795|\n",
      "|   WA|     UA|     9428|\n",
      "|   NM|     OO|     3532|\n",
      "|   IN|     F9|      728|\n",
      "|   UT|     MQ|       72|\n",
      "|   MD|     B6|     1773|\n",
      "|   CA|     VX|    29693|\n",
      "|   NV|     DL|    11561|\n",
      "|   CA|     US|    11469|\n",
      "|   MO|     OO|     3822|\n",
      "|   WY|     UA|     1016|\n",
      "|   AK|     AS|    28708|\n",
      "|   MD|     UA|     3013|\n",
      "|   SC|     B6|     1799|\n",
      "|   WA|     WN|    14605|\n",
      "|   NJ|     US|     2071|\n",
      "|   AR|     WN|     2337|\n",
      "|   FL|     AS|     1319|\n",
      "+-----+-------+---------+\n",
      "only showing top 20 rows\n",
      "\n",
      "+-----+\n",
      "|STATE|\n",
      "+-----+\n",
      "|   GU|\n",
      "+-----+\n",
      "\n"
     ]
    }
   ],
   "source": [
    "# Question 12: Calculate the number of flights to each destination state for each carrier, for which\n",
    "# state do they have the largest average delay? You will need the airline and airport data sets for this\n",
    "# question.\n",
    "destination_airline = flights.select(\"DESTINATION_AIRPORT\",\"AIRLINE\")\n",
    "airport_state = airports.select(\"IATA_CODE\",\"STATE\")\n",
    "\n",
    "destination_airline_state = destination_airline.join(airport_state, destination_airline.DESTINATION_AIRPORT == airport_state.IATA_CODE,\"inner\").select(\"AIRLINE\",\"STATE\")\n",
    "airline_state = destination_airline_state.withColumn(\"cnt\",lit(1)).groupBy(\"STATE\",\"AIRLINE\").agg(sum_(\"cnt\").alias(\"total_cnt\")).select(\"STATE\",\"AIRLINE\",\"total_cnt\")\n",
    "airline_state.show()\n",
    "\n",
    "destination_cnt = flights.select(\"DESTINATION_AIRPORT\").withColumn(\"cnt\",lit(1))\n",
    "destination_state_cnt = destination_cnt.join(airport_state, destination_cnt.DESTINATION_AIRPORT == airport_state.IATA_CODE,'inner')\n",
    "state_cnt = destination_state_cnt.groupBy(\"STATE\").agg(sum_(\"cnt\").alias(\"state_cnt\")).select(\"STATE\",\"state_cnt\")\n",
    "\n",
    "delayed_destination_cnt = flights.where(\"DEPARTURE_DELAY = 1\").select(\"DESTINATION_AIRPORT\").withColumn(\"cnt\",lit(1))\n",
    "delayed_destination_state_cnt = delayed_destination_cnt.join(airport_state,delayed_destination_cnt.DESTINATION_AIRPORT==airport_state.IATA_CODE,\"inner\")\n",
    "state_DelayCnt = delayed_destination_state_cnt.select(col(\"STATE\").alias(\"STATE2\")).withColumn(\"cnt\",lit(1)).groupBy(\"STATE2\").agg(sum_(\"cnt\").alias(\"delay_cnt\"))\n",
    "\n",
    "state_delay = state_cnt.join(state_DelayCnt,state_cnt.STATE == state_DelayCnt.STATE2,\"inner\")\n",
    "state_AvgDelay = state_delay.withColumn(\"average_delay\",col(\"delay_cnt\")/col(\"state_cnt\")).select(\"STATE\",\"average_delay\")\n",
    "\n",
    "largest_state_AvgDelay = state_AvgDelay.orderBy(\"average_delay\",ascending=False).limit(1).select(\"STATE\")\n",
    "largest_state_AvgDelay.show()"
   ]
  },
  {
   "cell_type": "code",
   "execution_count": null,
   "metadata": {},
   "outputs": [],
   "source": [
    "sc.stop()"
   ]
  }
 ],
 "metadata": {
  "kernelspec": {
   "display_name": "Python 3",
   "language": "python",
   "name": "python3"
  },
  "language_info": {
   "codemirror_mode": {
    "name": "ipython",
    "version": 3
   },
   "file_extension": ".py",
   "mimetype": "text/x-python",
   "name": "python",
   "nbconvert_exporter": "python",
   "pygments_lexer": "ipython3",
   "version": "3.8.3"
  }
 },
 "nbformat": 4,
 "nbformat_minor": 4
}
